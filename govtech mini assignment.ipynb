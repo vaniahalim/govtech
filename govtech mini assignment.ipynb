{
 "cells": [
  {
   "cell_type": "markdown",
   "metadata": {},
   "source": [
    "# Vania's Govtech Mini Assignment :D"
   ]
  },
  {
   "cell_type": "markdown",
   "metadata": {},
   "source": [
    "### 1. Set up"
   ]
  },
  {
   "cell_type": "code",
   "execution_count": 1,
   "metadata": {},
   "outputs": [],
   "source": [
    "import findspark\n",
    "findspark.init()"
   ]
  },
  {
   "cell_type": "code",
   "execution_count": 2,
   "metadata": {},
   "outputs": [],
   "source": [
    "from pyspark.sql import SparkSession"
   ]
  },
  {
   "cell_type": "code",
   "execution_count": 3,
   "metadata": {},
   "outputs": [],
   "source": [
    "spark = SparkSession.builder.appName('govtech_assignment').getOrCreate()"
   ]
  },
  {
   "cell_type": "markdown",
   "metadata": {},
   "source": [
    "Data set from https://data.gov.sg/dataset/causes-of-road-accidents-causes-of-accidents-by-severity-of-injury-sustained downloaded as csv file, placed in 'govtech' folder in C:\\ drive"
   ]
  },
  {
   "cell_type": "code",
   "execution_count": 4,
   "metadata": {},
   "outputs": [],
   "source": [
    "df = spark.read.csv('c:\\govtech\\causes-of-accidents-by-severity-of-injury-sustained.csv', header=True, inferSchema=True)"
   ]
  },
  {
   "cell_type": "markdown",
   "metadata": {},
   "source": [
    "Showing and understanding the dataset"
   ]
  },
  {
   "cell_type": "code",
   "execution_count": 5,
   "metadata": {
    "scrolled": false
   },
   "outputs": [
    {
     "name": "stdout",
     "output_type": "stream",
     "text": [
      "+----+-----------------------+--------------------+--------------------+-------------------+\n",
      "|year|accident_classification|     road_user_group|  causes_of_accident|number_of_accidents|\n",
      "+----+-----------------------+--------------------+--------------------+-------------------+\n",
      "|2012|                  FATAL|Drivers, Riders o...|Failing to Keep a...|                 59|\n",
      "|2012|                  FATAL|Drivers, Riders o...|Failing to Have P...|                 50|\n",
      "|2012|                  FATAL|Drivers, Riders o...|Failing to Give W...|                  9|\n",
      "|2012|                  FATAL|Drivers, Riders o...|Changing Lane wit...|                  6|\n",
      "|2012|                  FATAL|Drivers, Riders o...|Disobeying Traffi...|                  9|\n",
      "|2012|                  FATAL|Drivers, Riders o...|Turning Without D...|                  2|\n",
      "|2012|                  FATAL|Drivers, Riders o...|Driving under the...|                  3|\n",
      "|2012|                  FATAL|Drivers, Riders o...|Overtaking withou...|                  1|\n",
      "|2012|                  FATAL|Drivers, Riders o...|Following Too Clo...|                  1|\n",
      "|2012|                  FATAL|Drivers, Riders o...|Turning Vehicle &...|                  4|\n",
      "|2012|                  FATAL|Drivers, Riders o...|Other causes attr...|                 31|\n",
      "|2012|                 INJURY|Drivers, Riders o...|Failing to Keep a...|               2710|\n",
      "|2012|                 INJURY|Drivers, Riders o...|Failing to Have P...|               1237|\n",
      "|2012|                 INJURY|Drivers, Riders o...|Failing to Give W...|                862|\n",
      "|2012|                 INJURY|Drivers, Riders o...|Changing Lane wit...|                498|\n",
      "|2012|                 INJURY|Drivers, Riders o...|Disobeying Traffi...|                237|\n",
      "|2012|                 INJURY|Drivers, Riders o...|Turning Without D...|                185|\n",
      "|2012|                 INJURY|Drivers, Riders o...|Driving under the...|                115|\n",
      "|2012|                 INJURY|Drivers, Riders o...|Overtaking withou...|                 79|\n",
      "|2012|                 INJURY|Drivers, Riders o...|Following Too Clo...|                 49|\n",
      "+----+-----------------------+--------------------+--------------------+-------------------+\n",
      "only showing top 20 rows\n",
      "\n"
     ]
    }
   ],
   "source": [
    "df.show()"
   ]
  },
  {
   "cell_type": "code",
   "execution_count": 6,
   "metadata": {},
   "outputs": [
    {
     "name": "stdout",
     "output_type": "stream",
     "text": [
      "+-------+------------------+-----------------------+--------------------+--------------------+-------------------+\n",
      "|summary|              year|accident_classification|     road_user_group|  causes_of_accident|number_of_accidents|\n",
      "+-------+------------------+-----------------------+--------------------+--------------------+-------------------+\n",
      "|  count|               328|                    328|                 328|                 328|                328|\n",
      "|   mean|2015.0365853658536|                   null|                null|                null|  140.1219512195122|\n",
      "| stddev| 2.005772232724628|                   null|                null|                null|  403.8007998999642|\n",
      "|    min|              2012|                  FATAL|Drivers, Riders o...|Carrying Out Work...|                  0|\n",
      "|    max|              2018|                 INJURY|         Pedestrians|Using PMD to Trav...|               2742|\n",
      "+-------+------------------+-----------------------+--------------------+--------------------+-------------------+\n",
      "\n"
     ]
    }
   ],
   "source": [
    "df.describe().show()"
   ]
  },
  {
   "cell_type": "code",
   "execution_count": 7,
   "metadata": {},
   "outputs": [
    {
     "name": "stdout",
     "output_type": "stream",
     "text": [
      "root\n",
      " |-- year: integer (nullable = true)\n",
      " |-- accident_classification: string (nullable = true)\n",
      " |-- road_user_group: string (nullable = true)\n",
      " |-- causes_of_accident: string (nullable = true)\n",
      " |-- number_of_accidents: integer (nullable = true)\n",
      "\n"
     ]
    }
   ],
   "source": [
    "df.printSchema()"
   ]
  },
  {
   "cell_type": "markdown",
   "metadata": {},
   "source": [
    "### 2. Aggregation"
   ]
  },
  {
   "cell_type": "markdown",
   "metadata": {},
   "source": [
    "Selecting relevant columns"
   ]
  },
  {
   "cell_type": "code",
   "execution_count": 8,
   "metadata": {
    "scrolled": true
   },
   "outputs": [
    {
     "name": "stdout",
     "output_type": "stream",
     "text": [
      "+-----------------------+-------------------+----+\n",
      "|accident_classification|number_of_accidents|year|\n",
      "+-----------------------+-------------------+----+\n",
      "|                  FATAL|                 59|2012|\n",
      "|                  FATAL|                 50|2012|\n",
      "|                  FATAL|                  9|2012|\n",
      "|                  FATAL|                  6|2012|\n",
      "|                  FATAL|                  9|2012|\n",
      "|                  FATAL|                  2|2012|\n",
      "|                  FATAL|                  3|2012|\n",
      "|                  FATAL|                  1|2012|\n",
      "|                  FATAL|                  1|2012|\n",
      "|                  FATAL|                  4|2012|\n",
      "|                  FATAL|                 31|2012|\n",
      "|                 INJURY|               2710|2012|\n",
      "|                 INJURY|               1237|2012|\n",
      "|                 INJURY|                862|2012|\n",
      "|                 INJURY|                498|2012|\n",
      "|                 INJURY|                237|2012|\n",
      "|                 INJURY|                185|2012|\n",
      "|                 INJURY|                115|2012|\n",
      "|                 INJURY|                 79|2012|\n",
      "|                 INJURY|                 49|2012|\n",
      "+-----------------------+-------------------+----+\n",
      "only showing top 20 rows\n",
      "\n"
     ]
    }
   ],
   "source": [
    "df.select('accident_classification','number_of_accidents','year').show()"
   ]
  },
  {
   "cell_type": "markdown",
   "metadata": {},
   "source": [
    "1. Group according to the accidental classification and year\n",
    "2. Find the total number of accidents in each category"
   ]
  },
  {
   "cell_type": "code",
   "execution_count": 9,
   "metadata": {
    "scrolled": true
   },
   "outputs": [],
   "source": [
    "grouped = df.groupBy('accident_classification','year').sum('number_of_accidents')"
   ]
  },
  {
   "cell_type": "markdown",
   "metadata": {},
   "source": [
    "1. Order by year\n",
    "2. Order by accidental classification"
   ]
  },
  {
   "cell_type": "code",
   "execution_count": 10,
   "metadata": {},
   "outputs": [],
   "source": [
    "ordered = grouped.orderBy('year','accident_classification')"
   ]
  },
  {
   "cell_type": "markdown",
   "metadata": {},
   "source": [
    "Rename and reoder columns"
   ]
  },
  {
   "cell_type": "code",
   "execution_count": 11,
   "metadata": {
    "scrolled": true
   },
   "outputs": [
    {
     "name": "stdout",
     "output_type": "stream",
     "text": [
      "+-------------------------+-----+----+\n",
      "|Accidental classification|Cases|Year|\n",
      "+-------------------------+-----+----+\n",
      "|                    FATAL|  231|2012|\n",
      "|                   INJURY| 7335|2012|\n",
      "|                    FATAL|  207|2013|\n",
      "|                   INJURY| 6793|2013|\n",
      "|                    FATAL|  170|2014|\n",
      "|                   INJURY| 7157|2014|\n",
      "|                    FATAL|  162|2015|\n",
      "|                   INJURY| 7019|2015|\n",
      "|                    FATAL|  140|2016|\n",
      "|                   INJURY| 6480|2016|\n",
      "|                    FATAL|  109|2017|\n",
      "|                   INJURY| 5101|2017|\n",
      "|                    FATAL|  110|2018|\n",
      "|                   INJURY| 4946|2018|\n",
      "+-------------------------+-----+----+\n",
      "\n"
     ]
    }
   ],
   "source": [
    "ordered.select(ordered['accident_classification'].alias('Accidental classification'),\n",
    "               ordered['sum(number_of_accidents)'].alias('Cases'),\n",
    "               ordered['year'].alias('Year')).show()"
   ]
  },
  {
   "cell_type": "markdown",
   "metadata": {},
   "source": [
    "### Result obtained! :D"
   ]
  }
 ],
 "metadata": {
  "kernelspec": {
   "display_name": "Python 3",
   "language": "python",
   "name": "python3"
  },
  "language_info": {
   "codemirror_mode": {
    "name": "ipython",
    "version": 3
   },
   "file_extension": ".py",
   "mimetype": "text/x-python",
   "name": "python",
   "nbconvert_exporter": "python",
   "pygments_lexer": "ipython3",
   "version": "3.8.5"
  }
 },
 "nbformat": 4,
 "nbformat_minor": 4
}
